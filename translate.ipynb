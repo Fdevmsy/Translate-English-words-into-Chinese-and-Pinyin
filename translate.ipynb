{
 "cells": [
  {
   "cell_type": "code",
   "execution_count": 1,
   "metadata": {
    "collapsed": false
   },
   "outputs": [
    {
     "name": "stdout",
     "output_type": "stream",
     "text": [
      "nǐ hǎo\n",
      "['I', 'you', 'He', 'we', 'you', 'they', 'this', 'that', 'here', 'there', 'who', 'what', 'where', 'when', 'how', 'not', 'all', 'many', 'some', 'few', 'other', 'one', 'two', 'three', 'four', 'five', 'big', 'long', 'wide', 'thick', 'heavy', 'small', 'short', 'narrow', 'thin', 'woman', 'man', 'Man', 'child', 'wife', 'husband', 'mother', 'father', 'animal', 'fish', 'bird', 'dog', 'louse', 'snake', 'worm', 'tree', 'forest', 'stick', 'fruit', 'seed', 'leaf', 'root', 'bark', 'flower', 'grass', 'rope', 'skin', 'meat', 'blood', 'bone', 'fat', 'egg', 'horn', 'tail', 'feather', 'hair', 'head', 'ear', 'eye', 'nose', 'mouth', 'tooth', 'tongue', 'fingernail', 'foot', 'leg', 'knee', 'hand', 'wing', 'Belly', 'guts', 'neck', 'back', 'breast', 'heart', 'Liver', 'drink', 'eat', 'bite', 'suck', 'spit', 'vomit', 'blow', 'breathe', 'laugh']\n"
     ]
    }
   ],
   "source": [
    "import pinyin\n",
    "\n",
    "hd = open('pinyin.txt', 'r')\n",
    "\n",
    "wordslist = list()\n",
    "for row in hd:\n",
    "    words = row.split()\n",
    "    \n",
    "    wordslist.append(words[1])\n",
    "    \n",
    "print (wordslist)  \n",
    "\n",
    "\n"
   ]
  },
  {
   "cell_type": "code",
   "execution_count": 2,
   "metadata": {
    "collapsed": false
   },
   "outputs": [
    {
     "name": "stdout",
     "output_type": "stream",
     "text": [
      "100\n"
     ]
    }
   ],
   "source": [
    "print len(wordslist)"
   ]
  },
  {
   "cell_type": "code",
   "execution_count": 13,
   "metadata": {
    "collapsed": false
   },
   "outputs": [
    {
     "name": "stdout",
     "output_type": "stream",
     "text": [
      "我\n",
      "你\n",
      "他\n",
      "我们\n",
      "你\n",
      "他们\n",
      "这\n",
      "那个\n",
      "在这里\n",
      "那里\n",
      "谁\n",
      "什么\n",
      "哪里\n",
      "什么时候\n",
      "怎样\n",
      "不\n",
      "全部的\n",
      "许多的\n",
      "一些\n",
      "很少的\n",
      "其他\n",
      "一\n",
      "二\n",
      "三\n",
      "四\n",
      "五\n",
      "大的\n",
      "长的\n",
      "宽的\n",
      "厚的\n",
      "重的\n",
      "小的\n",
      "短的\n",
      "狭窄的\n",
      "薄的\n",
      "女人\n",
      "男人\n",
      "男人\n",
      "小孩\n",
      "妻子\n",
      "丈夫\n",
      "母亲\n",
      "父亲\n",
      "动物\n",
      "鱼\n",
      "鸟\n",
      "狗\n",
      "虱\n",
      "蛇\n",
      "蠕虫\n",
      "树\n",
      "森林\n",
      "粘贴\n",
      "水果\n",
      "种子\n",
      "叶\n",
      "根\n",
      "树皮\n",
      "花\n",
      "草\n",
      "绳\n",
      "皮肤\n",
      "肉\n",
      "血\n",
      "骨\n",
      "脂肪\n",
      "鸡蛋\n",
      "喇叭\n",
      "尾\n",
      "羽毛\n",
      "头发\n",
      "头\n",
      "耳朵\n",
      "眼睛\n",
      "鼻子\n",
      "口\n",
      "牙齿\n",
      "舌头\n",
      "指甲\n",
      "脚\n",
      "腿\n",
      "膝\n",
      "手\n",
      "翼\n",
      "腹部\n",
      "勇气\n",
      "脖子\n",
      "后面\n",
      "乳房\n",
      "心\n",
      "肝\n",
      "喝\n",
      "吃\n",
      "咬\n",
      "吮吸\n",
      "吐\n",
      "呕吐\n",
      "吹\n",
      "呼吸\n",
      "笑\n",
      "100\n"
     ]
    }
   ],
   "source": [
    "trans = list()\n",
    "for i in wordslist:\n",
    "    tr = baidu(i, dst = 'zh')\n",
    "    print tr\n",
    "    trans.append(tr)\n",
    "    \n",
    "    \n",
    "print len(trans)"
   ]
  },
  {
   "cell_type": "code",
   "execution_count": null,
   "metadata": {
    "collapsed": false
   },
   "outputs": [],
   "source": []
  },
  {
   "cell_type": "code",
   "execution_count": null,
   "metadata": {
    "collapsed": false
   },
   "outputs": [],
   "source": []
  },
  {
   "cell_type": "code",
   "execution_count": 44,
   "metadata": {
    "collapsed": false
   },
   "outputs": [
    {
     "name": "stdout",
     "output_type": "stream",
     "text": [
      "wǒ\n",
      "nǐ\n",
      "tā\n",
      "wǒmen\n",
      "nǐ\n",
      "tāmen\n",
      "zhè\n",
      "nàgè\n",
      "zàizhèlǐ\n",
      "nàlǐ\n",
      "shúi\n",
      "shíyāo\n",
      "nǎlǐ\n",
      "shíyāoshíhòu\n",
      "zěnyáng\n",
      "bù\n",
      "quánbùde\n",
      "xǔduōde\n",
      "yīxiē\n",
      "hěnshǎode\n",
      "qítā\n",
      "yī\n",
      "èr\n",
      "sān\n",
      "sì\n",
      "wǔ\n",
      "dàde\n",
      "chángde\n",
      "kuānde\n",
      "hòude\n",
      "zhòngde\n",
      "xiǎode\n",
      "duǎnde\n",
      "xiázhǎide\n",
      "bóde\n",
      "nv̌rén\n",
      "nánrén\n",
      "nánrén\n",
      "xiǎohái\n",
      "qīzǐ\n",
      "zhàngfū\n",
      "mǔqīn\n",
      "fùqīn\n",
      "dòngwù\n",
      "yú\n",
      "niǎo\n",
      "gǒu\n",
      "shī\n",
      "shé\n",
      "rúchóng\n",
      "shù\n",
      "sēnlín\n",
      "niántiē\n",
      "shǔiguǒ\n",
      "zhǒngzǐ\n",
      "yè\n",
      "gēn\n",
      "shùpí\n",
      "huā\n",
      "cǎo\n",
      "shéng\n",
      "pífū\n",
      "ròu\n",
      "xiě\n",
      "gǔ\n",
      "zhīfáng\n",
      "jīdàn\n",
      "lǎbā\n",
      "wěi\n",
      "yǔmáo\n",
      "tóufā\n",
      "tóu\n",
      "ěrduǒ\n",
      "yǎnjīng\n",
      "bízǐ\n",
      "kǒu\n",
      "yáchǐ\n",
      "shétóu\n",
      "zhǐjiǎ\n",
      "jiǎo\n",
      "tǔi\n",
      "xī\n",
      "shǒu\n",
      "yì\n",
      "fùbù\n",
      "yǒngqì\n",
      "bózǐ\n",
      "hòumiàn\n",
      "rǔfáng\n",
      "xīn\n",
      "gān\n",
      "hē\n",
      "chī\n",
      "yǎo\n",
      "shǔnxī\n",
      "tǔ\n",
      "ōutǔ\n",
      "chūi\n",
      "hūxī\n",
      "xiào\n"
     ]
    }
   ],
   "source": [
    "#get pinyin\n",
    "PinYin = list()\n",
    "for word in trans:\n",
    "    print pinyin.get(word)\n",
    "    PinYin.append(pinyin.get(word))\n",
    "# print PinYin\n"
   ]
  },
  {
   "cell_type": "code",
   "execution_count": 56,
   "metadata": {
    "collapsed": false
   },
   "outputs": [],
   "source": [
    "textfile = open('TransOut.txt', 'w')\n",
    "count = 1\n",
    "zipRes = zip(wordslist, trans, PinYin)\n",
    "for (row3, row1, row2) in zipRes:\n",
    "    textfile.write(str(count) + '\\t' + row3.encode('utf8') + '\\t'+ '\\t'+ '\\t' + row1.encode('utf8') + '\\t'+ '\\t'+ '\\t' + row2.encode('utf8') + '\\n')  \n",
    "    count = count + 1\n",
    "textfile.close()"
   ]
  },
  {
   "cell_type": "code",
   "execution_count": null,
   "metadata": {
    "collapsed": true
   },
   "outputs": [],
   "source": []
  },
  {
   "cell_type": "code",
   "execution_count": null,
   "metadata": {
    "collapsed": true
   },
   "outputs": [],
   "source": []
  }
 ],
 "metadata": {
  "kernelspec": {
   "display_name": "Python 2",
   "language": "python",
   "name": "python2"
  },
  "language_info": {
   "codemirror_mode": {
    "name": "ipython",
    "version": 2
   },
   "file_extension": ".py",
   "mimetype": "text/x-python",
   "name": "python",
   "nbconvert_exporter": "python",
   "pygments_lexer": "ipython2",
   "version": "2.7.10"
  }
 },
 "nbformat": 4,
 "nbformat_minor": 0
}
